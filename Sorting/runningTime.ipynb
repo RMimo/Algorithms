# Running Time of Algorithms
The running time of an algorithm for a specific input depends on the number of operations executed. The greater the number of operations, the longer the running time of an algorithm. We usually want to know how many operations an algorithm will execute in proportion to the size of its input, which we will call N.
What is the ratio of the running time of Insertion Sort to the size of the input? To answer this question, we need to examine the algorithm.
